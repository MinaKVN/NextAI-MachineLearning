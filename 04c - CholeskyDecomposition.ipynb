{
 "cells": [
  {
   "cell_type": "markdown",
   "metadata": {
    "colab_type": "text",
    "id": "UVBzD_AEP0ts"
   },
   "source": [
    "*Credit*: some material here has been adapted from the Appendix of [Rasmussen and Williams \"Gaussian Processes for Machine Learning\"](http://www.gaussianprocess.org/gpml/)."
   ]
  },
  {
   "cell_type": "code",
   "execution_count": null,
   "metadata": {
    "colab": {},
    "colab_type": "code",
    "id": "DuglEudTQIGR"
   },
   "outputs": [],
   "source": [
    "import numpy as np\n",
    "import matplotlib.pyplot as plt"
   ]
  },
  {
   "cell_type": "markdown",
   "metadata": {
    "colab_type": "text",
    "id": "xO7xgqX2Qt5A"
   },
   "source": [
    "# Cholesky decomposition\n",
    "\n",
    "The Cholesky decomposition of a symmetric, positive definite matrix $\\mathbf{A}$ decomposes $\\mathbf{A}$ into a product of a lower triangular matrix $\\mathbf{L}$ and its transpose:\n",
    "\n",
    "$$\\mathbf{L}\\mathbf{L}^{\\top} = \\mathbf{A}$$\n",
    "\n",
    "where $\\mathbf{L}$ is called the Cholesky factor. The Cholesky decomposition is also known as the \"matrix square root\".\n",
    "\n",
    "In Python, the Cholesky decomposition can be efficiently computed via `scipy.linalg.cho_factor`."
   ]
  },
  {
   "cell_type": "code",
   "execution_count": null,
   "metadata": {
    "colab": {},
    "colab_type": "code",
    "id": "b3mJfAzgT7xk"
   },
   "outputs": [],
   "source": [
    "from scipy.linalg import cho_factor\n",
    "A = np.array([[9, 3, 1, 5], [3, 7, 5, 1], [1, 5, 9, 2], [5, 1, 2, 6]])\n",
    "print(A)\n",
    "c, low = cho_factor(A)"
   ]
  },
  {
   "cell_type": "markdown",
   "metadata": {
    "colab_type": "text",
    "id": "f827xlkSUMNn"
   },
   "source": [
    "The first argument returned by `cho_factor` is a matrix whose upper or lower triangle contains the Cholesky factor. The second argument returned is a boolean flag indicating whether the factor is in the lower or upper triangle.\n",
    "\n",
    "As a warning, the function also returns random data in the entries not used by the Cholesky decomposition. But if you need to zero these entries, use `scipy.linalg.cholesky` instead.\n"
   ]
  },
  {
   "cell_type": "code",
   "execution_count": null,
   "metadata": {
    "colab": {},
    "colab_type": "code",
    "id": "SCI2DsEMUzM5"
   },
   "outputs": [],
   "source": [
    "print(c)\n",
    "print(low)"
   ]
  },
  {
   "cell_type": "markdown",
   "metadata": {
    "colab_type": "text",
    "id": "AvyPwv0lU3_Z"
   },
   "source": [
    "In this case, the Cholesky factor is in the upper triangle."
   ]
  },
  {
   "cell_type": "code",
   "execution_count": null,
   "metadata": {
    "colab": {},
    "colab_type": "code",
    "id": "2asfwqTCU-8I"
   },
   "outputs": [],
   "source": [
    "np.allclose(np.triu(c).T @ np. triu(c) - A, np.zeros((4, 4)))"
   ]
  },
  {
   "cell_type": "markdown",
   "metadata": {
    "colab_type": "text",
    "id": "_6FnwPpjTv5D"
   },
   "source": [
    "Note that here we used the short form for the matrix product, `@`.\n",
    "\n",
    "## Solving linear systems with a symmetric, positive definite coffeicient matrix\n",
    "\n",
    "The Cholesky decomposition is useful for solving linear systems with symmetric, [positive definite](http://en.wikipedia.org/wiki/Positive-definite_matrix) coefficient matrix $\\mathbf{A}$. To solve $\\mathbf{A}\\mathbf{x}=\\mathbf{b}$ for $\\mathbf{x}$, first solve the triangular system $\\mathbf{L}^{\\top}\\mathbf{y}=\\mathbf{b}$ by forward substitution and then the triangular system $\\mathbf{L}^{\\top}\\mathbf{x} = \\mathbf{y}$ by back substitution.\n",
    "\n",
    "Let's start by creating a symmetric, positive definite matrix."
   ]
  },
  {
   "cell_type": "code",
   "execution_count": null,
   "metadata": {
    "colab": {},
    "colab_type": "code",
    "id": "cKkY7o8XQyi6"
   },
   "outputs": [],
   "source": [
    "B = np.random.randn(4,3)\n",
    "A = np.dot(B.T, B)  # This will be symmetric, positive definite\n",
    "print(A)\n",
    "b = np.random.randn(3)\n",
    "print(b)"
   ]
  },
  {
   "cell_type": "markdown",
   "metadata": {
    "colab_type": "text",
    "id": "ZMEKKX-4R7rT"
   },
   "source": [
    "This is how we would usually solve the linear system $\\mathbf{A}\\mathbf{x}=\\mathbf{b}$, but it does not exploit the symmetric, positive definite structure of $\\mathbf{A}$."
   ]
  },
  {
   "cell_type": "code",
   "execution_count": null,
   "metadata": {
    "colab": {},
    "colab_type": "code",
    "id": "B7yMY-jCRZBw"
   },
   "outputs": [],
   "source": [
    "x = np.linalg.solve(A, b)"
   ]
  },
  {
   "cell_type": "markdown",
   "metadata": {
    "colab_type": "text",
    "id": "jurR2e3JSRN5"
   },
   "source": [
    "SciPy provides the `cho_solve` method to automate the above procedure. It accepts as an input argument a Cholesky decomposition as output by `cho_factor`."
   ]
  },
  {
   "cell_type": "code",
   "execution_count": null,
   "metadata": {
    "colab": {},
    "colab_type": "code",
    "id": "QjSQziJORjVY"
   },
   "outputs": [],
   "source": [
    "from scipy.linalg import cho_solve\n",
    "x_ = cho_solve(cho_factor(A, lower=True), b)\n",
    "print(x)\n",
    "print(x_)\n",
    "np.allclose(x, x_)"
   ]
  },
  {
   "cell_type": "markdown",
   "metadata": {
    "colab_type": "text",
    "id": "jFRena3PWwq8"
   },
   "source": [
    "## Generating Gaussian samples\n",
    "\n",
    "To generate samples $\\mathbf{x} \\sim \\mathcal{N} \\left(\\boldsymbol{\\mu}, \\boldsymbol{\\Sigma} \\right)$ with arbitrary mean $\\boldsymbol{\\mu}$ and covariance matrix $\\boldsymbol{\\Sigma}$ using a scalar Gaussian generator (which is readily available in many programming environments), we can first compute the Cholesky decomposition $L$ of the symmetric, positive definite covariance matrix $\\boldsymbol{\\Sigma}=\\mathbf{L}\\mathbf{L}^{\\top}$. Then we generate $\\mathbf{u} \\sim \\mathcal{N}\\left(\\mathbf{0}, I\\right)$ by multiple separate calls to the scalar Gaussian generator. Compute $\\mathbf{x} = \\mathbf{\\boldsymbol{\\mu}} + L\\mathbf{u}$, which has the desired distribution with mean $\\boldsymbol{\\mu}$ and covariance $L \\mathbb{E} \\left[ \\mathbf{u} \\mathbf{u}^t \\right] L^T = \\boldsymbol{\\Sigma}$ (by the independence of the elements of $\\mathbf{u}$).\n",
    "\n",
    "In practice it may be necessary to add a small multiple of the identity matrix $\\epsilon I$ to the covariance matrix for numerical reasons. This is because the eigenvalues of the matrix $\\boldsymbol{\\Sigma}$ can decay very rapidly and without this stabilization the Cholesky decomposition fails. The effect on the generated samples is to add additional independent noise of variance $\\epsilon$. From the context $\\epsilon$ can usually be chosen to have inconsequential effects on the samples, while ensuring numerical stability.\n",
    "\n",
    "Note that Numpy already provides ``random.multivariate_normal`` and, in general, you should trust the Numpy provided methods as they are efficient and implement various types of error-checking. The following shows the use of Cholesky decomposition for informational purposes."
   ]
  },
  {
   "cell_type": "code",
   "execution_count": null,
   "metadata": {
    "colab": {
     "base_uri": "https://localhost:8080/",
     "height": 286
    },
    "colab_type": "code",
    "executionInfo": {
     "elapsed": 502,
     "status": "ok",
     "timestamp": 1565924547534,
     "user": {
      "displayName": "Graham Taylor",
      "photoUrl": "https://lh3.googleusercontent.com/-155QAj8qsqE/AAAAAAAAAAI/AAAAAAAABIo/dhpL56zV4U4/s64/photo.jpg",
      "userId": "16671616719166349387"
     },
     "user_tz": 240
    },
    "id": "6a6t04dqWzY8",
    "outputId": "ceee4afa-e697-4efd-ac83-692fde234496"
   },
   "outputs": [],
   "source": [
    "mu = np.array([2, 2])\n",
    "sig = np.array([[0.1, 0.25], \n",
    "              [0.25, 0.8]])\n",
    "x = np.random.multivariate_normal(mu, sig, (100, ))\n",
    "plt.scatter(x[:, 0], x[:, 1], alpha=0.5)\n",
    "\n",
    "# show the use of Cholesky decomposition to sample\n",
    "L = np.linalg.cholesky(sig)\n",
    "u = np.random.randn(100, 2)\n",
    "\n",
    "x_ = mu + np.dot(u, L.T)  # Python likes data in rows, dimensions in columns\n",
    "plt.scatter(x_[:, 0], x_[:, 1], edgecolor='black', color='pink', alpha=0.5)"
   ]
  }
 ],
 "metadata": {
  "colab": {
   "collapsed_sections": [],
   "name": "CholeskyDecomposition.ipynb",
   "provenance": [],
   "version": "0.3.2"
  },
  "kernelspec": {
   "display_name": "Python 3",
   "name": "python3"
  }
 },
 "nbformat": 4,
 "nbformat_minor": 0
}
