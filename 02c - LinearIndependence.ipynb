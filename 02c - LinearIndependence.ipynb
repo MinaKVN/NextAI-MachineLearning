{
 "cells": [
  {
   "cell_type": "code",
   "execution_count": null,
   "metadata": {
    "colab": {},
    "colab_type": "code",
    "id": "-G9-2M1cRN32"
   },
   "outputs": [],
   "source": [
    "import numpy as np"
   ]
  },
  {
   "cell_type": "markdown",
   "metadata": {
    "colab_type": "text",
    "id": "93y9Fzg0RPYk"
   },
   "source": [
    "# Linear Independence\n",
    "\n",
    "Let's see a few different ways to test for linear independence of a set of vectors. We will start with the set of vectors from Example 2.15 in [Mathematics for Machine Learning](https://mml-book.github.io/):\n",
    "\n",
    "$$\n",
    "\\left\\{\n",
    "\\begin{bmatrix} 1\\\\ -2\\\\ 1 \\\\ -1 \\end{bmatrix},\n",
    "\\begin{bmatrix} -4\\\\ -2\\\\ 0 \\\\  4 \\end{bmatrix},\n",
    "\\begin{bmatrix} 2\\\\ 3\\\\  -1\\\\ -3 \\end{bmatrix}\n",
    "\\begin{bmatrix} 17\\\\ -10\\\\  11\\\\ 1 \\end{bmatrix}\n",
    "\\right\\}\n",
    "$$"
   ]
  },
  {
   "cell_type": "code",
   "execution_count": null,
   "metadata": {
    "colab": {
     "base_uri": "https://localhost:8080/",
     "height": 85
    },
    "colab_type": "code",
    "id": "uE4IQKNURbMg",
    "outputId": "1542c327-ca0d-45d0-eff8-00a592f174c8"
   },
   "outputs": [],
   "source": [
    "A = np.array([[1, -2, 1, -1], [-4, -2, 0, 4], [2, 3, -1, -3], [17, -10, 11, 1]]).T\n",
    "print(A)"
   ]
  },
  {
   "cell_type": "markdown",
   "metadata": {
    "colab_type": "text",
    "id": "lo7a1mKfS3KQ"
   },
   "source": [
    "The simplest way to test for linear independence is by way of `numpy.linalg.matrix_rank`. This will report the number of linearly independent columns."
   ]
  },
  {
   "cell_type": "code",
   "execution_count": null,
   "metadata": {
    "colab": {
     "base_uri": "https://localhost:8080/",
     "height": 34
    },
    "colab_type": "code",
    "id": "O596JzvhTKQ1",
    "outputId": "88f81fc9-7705-4610-ac6b-d0c2d9b57ee9"
   },
   "outputs": [],
   "source": [
    "np.linalg.matrix_rank(A)"
   ]
  },
  {
   "cell_type": "markdown",
   "metadata": {
    "colab_type": "text",
    "id": "dNzcOa74TRb8"
   },
   "source": [
    "We see that only three columns are linearly independent.\n",
    "\n",
    "`np.linalg.matrix_rank` actually employs the Singular Value Decomposition and tests whether the magnitude of the singular values of the matrix exceed some tolerance close to zero. Let's actually run this ourselves."
   ]
  },
  {
   "cell_type": "code",
   "execution_count": null,
   "metadata": {
    "colab": {
     "base_uri": "https://localhost:8080/",
     "height": 34
    },
    "colab_type": "code",
    "id": "EY2nPioFUUtH",
    "outputId": "0a7fff4e-6fd0-495e-8d1c-be08d401f0bc"
   },
   "outputs": [],
   "source": [
    "U, s, V = np.linalg.svd(A)\n",
    "print(s)"
   ]
  },
  {
   "cell_type": "code",
   "execution_count": null,
   "metadata": {
    "colab": {
     "base_uri": "https://localhost:8080/",
     "height": 51
    },
    "colab_type": "code",
    "id": "PO12QvKFUa-O",
    "outputId": "1c5a8bfe-2ea0-4b83-8489-6b7def72e5f2"
   },
   "outputs": [],
   "source": [
    "# this is the default tolerance, see the documentation for numpy.linalg.matrix_rank\n",
    "tol = s.max() * max(A.shape) * np.finfo(s.dtype).eps\n",
    "print(tol)\n",
    "print(s > tol)"
   ]
  },
  {
   "cell_type": "markdown",
   "metadata": {
    "colab_type": "text",
    "id": "SoReEtMEUuZU"
   },
   "source": [
    "We see that the fourth singular value does not pass the test. This is because the last column can be expressed as a linear combination of the three others."
   ]
  },
  {
   "cell_type": "markdown",
   "metadata": {
    "colab_type": "text",
    "id": "X_1nJef8VqwR"
   },
   "source": [
    "## Exercise\n",
    "\n",
    "Another way to test for linear independence is to reduce the matrix to reduced row echelon form and count the pivot columns. This is similar to what was done in Example 2.15 in [Mathematics for Machine Learning](https://mml-book.github.io/). See if you can use the `sympy` package to do this in Python. Hint: check out the `rref` function."
   ]
  }
 ],
 "metadata": {
  "colab": {
   "collapsed_sections": [],
   "name": "LinearIndependence.ipynb",
   "provenance": []
  },
  "kernelspec": {
   "display_name": "Python 3",
   "language": "python",
   "name": "python3"
  },
  "language_info": {
   "codemirror_mode": {
    "name": "ipython",
    "version": 3
   },
   "file_extension": ".py",
   "mimetype": "text/x-python",
   "name": "python",
   "nbconvert_exporter": "python",
   "pygments_lexer": "ipython3",
   "version": "3.6.10"
  }
 },
 "nbformat": 4,
 "nbformat_minor": 1
}
