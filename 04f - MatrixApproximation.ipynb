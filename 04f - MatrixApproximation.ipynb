{
 "cells": [
  {
   "cell_type": "code",
   "execution_count": null,
   "metadata": {
    "colab": {},
    "colab_type": "code",
    "id": "RXwZFVwupH8e"
   },
   "outputs": [],
   "source": [
    "import numpy as np\n",
    "import scipy.misc\n",
    "from scipy import linalg\n",
    "import matplotlib.pyplot as plt"
   ]
  },
  {
   "cell_type": "markdown",
   "metadata": {
    "colab_type": "text",
    "id": "YqW58bFypO8r"
   },
   "source": [
    "# Matrix Approximation\n",
    "\n",
    "Let's see an image processing example with the SVD. We load a sample $512 \\times 512$ grayscale image from `scipy.misc`."
   ]
  },
  {
   "cell_type": "code",
   "execution_count": null,
   "metadata": {
    "colab": {
     "base_uri": "https://localhost:8080/",
     "height": 34
    },
    "colab_type": "code",
    "id": "4Dn4bXHppR3W",
    "outputId": "b0e02549-8c5c-4687-8acf-ab5e58e91db2"
   },
   "outputs": [],
   "source": [
    "X = scipy.misc.ascent()\n",
    "print(X.shape)"
   ]
  },
  {
   "cell_type": "markdown",
   "metadata": {
    "colab_type": "text",
    "id": "8aMdHs2NxPSa"
   },
   "source": [
    "Let's plot the image, setting the colormap to be grayscale."
   ]
  },
  {
   "cell_type": "code",
   "execution_count": null,
   "metadata": {
    "colab": {
     "base_uri": "https://localhost:8080/",
     "height": 286
    },
    "colab_type": "code",
    "id": "mRsUEISYpefZ",
    "outputId": "3ea420e5-6c54-41a2-8998-d38eeca69413"
   },
   "outputs": [],
   "source": [
    "fontdict={'color': 'y', 'size': 16}\n",
    "plt.gray()\n",
    "plt.imshow(X)"
   ]
  },
  {
   "cell_type": "markdown",
   "metadata": {
    "colab_type": "text",
    "id": "jt2HCYCZxcyp"
   },
   "source": [
    "Next, we perform a SVD on the image. `scipy.linalg.diagsvd` is a convenient function to create a padded matrix of a given size, with the singular values along the diagonal."
   ]
  },
  {
   "cell_type": "code",
   "execution_count": null,
   "metadata": {
    "colab": {},
    "colab_type": "code",
    "id": "wH5kuvzGplFe"
   },
   "outputs": [],
   "source": [
    "u, s, vh = linalg.svd(X)\n",
    "smat = linalg.diagsvd(s, X.shape[0], X.shape[1])"
   ]
  },
  {
   "cell_type": "markdown",
   "metadata": {
    "colab_type": "text",
    "id": "aOkXfpsfxyiY"
   },
   "source": [
    "Now we will go through and form approximations of increasing rank, making a subplot as we do so."
   ]
  },
  {
   "cell_type": "code",
   "execution_count": null,
   "metadata": {
    "colab": {
     "base_uri": "https://localhost:8080/",
     "height": 595
    },
    "colab_type": "code",
    "id": "XmNes4UQqS2B",
    "outputId": "5aa7ebe2-b518-4cf2-cc91-8850c8ddb14b"
   },
   "outputs": [],
   "source": [
    "fig, ax = plt.subplots(4, 4, squeeze=True, figsize=(10,10))\n",
    "pidx = 1\n",
    "for k in range(5, 50, 3):\n",
    "  smat1 = smat.copy()\n",
    "  smat1[smat1 < s[int(k)]] = 0.  # zero the singular values with index < k\n",
    "  X1 = u @ smat1 @ vh\n",
    "  plt.subplot(4, 4, pidx)\n",
    "  plt.axis(\"off\")\n",
    "  plt.imshow(X1, aspect='auto')\n",
    "  plt.text(256, 512, 'rank-%d' % k, fontdict=fontdict)\n",
    "  pidx += 1\n",
    "\n",
    "plt.subplot(4, 4, pidx)\n",
    "plt.axis(\"off\")\n",
    "plt.imshow(X1)\n",
    "plt.text(256, 512, 'full rank', fontdict=fontdict)\n",
    "\n",
    "plt.subplots_adjust(hspace=0, wspace=0)"
   ]
  },
  {
   "cell_type": "markdown",
   "metadata": {
    "colab_type": "text",
    "id": "4CYL9ydJyyjs"
   },
   "source": [
    "## Exercise\n",
    "\n",
    "Inspect the individual rank-1 components corresponding to the singular values returned by the SVD."
   ]
  }
 ],
 "metadata": {
  "colab": {
   "collapsed_sections": [],
   "name": "MatrixApproximation.ipynb",
   "provenance": []
  },
  "kernelspec": {
   "display_name": "Python 3",
   "name": "python3"
  }
 },
 "nbformat": 4,
 "nbformat_minor": 0
}
