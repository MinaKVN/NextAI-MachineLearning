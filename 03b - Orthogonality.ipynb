{
 "cells": [
  {
   "cell_type": "code",
   "execution_count": null,
   "metadata": {
    "colab": {},
    "colab_type": "code",
    "id": "40txSggmnwzQ"
   },
   "outputs": [],
   "source": [
    "import numpy as np"
   ]
  },
  {
   "cell_type": "markdown",
   "metadata": {
    "colab_type": "text",
    "id": "c0HQScm5nzRj"
   },
   "source": [
    "# Orthogonality\n",
    "\n",
    "## Finding an orthogonal basis\n",
    "\n",
    "The Gram-Schmidt process is a method for converting a set of basis vectors that are linearly independent but not necessarily orthogonal to an orthogonal set that spans the same subspace.\n",
    "\n",
    "The procedure goes through each basis vector, subtracting off any components in the direction of the previously visited vectors, and then scales the remainder to be unit rank.\n",
    "\n",
    "The [Wikipedia page on Gram-Schmidt](https://en.wikipedia.org/wiki/Gram%E2%80%93Schmidt_process) has a nice animation of it applied in $\\mathbb{R}^3$.\n"
   ]
  },
  {
   "cell_type": "code",
   "execution_count": null,
   "metadata": {
    "colab": {},
    "colab_type": "code",
    "id": "90L1cW2Po9Q1"
   },
   "outputs": [],
   "source": [
    "# Source: https://gist.github.com/iizukak/1287876/edad3c337844fac34f7e56ec09f9cb27d4907cc7#gistcomment-2935521\n",
    "def gram_schmidt(A):\n",
    "    \"\"\"Orthogonalize a set of vectors stored as the columns of matrix A.\"\"\"\n",
    "    # Get the number of vectors.\n",
    "    n = A.shape[1]\n",
    "    Q = A.copy()\n",
    "    for j in range(n):\n",
    "        # To orthogonalize the vector in column j with respect to the\n",
    "        # previous vectors, subtract from it its projection onto the\n",
    "        # each of the previous vectors.\n",
    "        for k in range(j):\n",
    "            Q[:, j] -= np.dot(Q[:, k], Q[:, j]) * Q[:, k]\n",
    "        Q[:, j] = Q[:, j] / np.linalg.norm(Q[:, j])\n",
    "    return Q"
   ]
  },
  {
   "cell_type": "markdown",
   "metadata": {
    "colab_type": "text",
    "id": "NRsEcC-gxwO7"
   },
   "source": [
    "Let's apply the Gram-Schmidt process to the following basis:\n",
    "\n",
    "$$\n",
    "\\left\\{\n",
    "\\begin{bmatrix} 1\\\\ 1\\\\ 2 \\end{bmatrix},\n",
    "\\begin{bmatrix} 1\\\\ 3\\\\ -1\\\\ \\end{bmatrix},\n",
    "\\begin{bmatrix} 0\\\\ 1\\\\  1\\\\\\end{bmatrix}\n",
    "\\right\\}\n",
    "$$"
   ]
  },
  {
   "cell_type": "code",
   "execution_count": null,
   "metadata": {
    "colab": {
     "base_uri": "https://localhost:8080/",
     "height": 69
    },
    "colab_type": "code",
    "id": "a-fiPiUWo-Hj",
    "outputId": "7c922634-3abb-4dba-888b-a939901dda12"
   },
   "outputs": [],
   "source": [
    "A = np.array([[1.0, 1.0, 0.0], [1.0, 3.0, 1.0], [2.0, -1.0, 1.0]])\n",
    "Q = gram_schmidt(A)\n",
    "print(Q)"
   ]
  },
  {
   "cell_type": "markdown",
   "metadata": {
    "colab_type": "text",
    "id": "0rAU2d0jpSMR"
   },
   "source": [
    "We can see that the columns of Q are orthogonal and are of unit norm:"
   ]
  },
  {
   "cell_type": "code",
   "execution_count": null,
   "metadata": {
    "colab": {
     "base_uri": "https://localhost:8080/",
     "height": 121
    },
    "colab_type": "code",
    "id": "B-MPsgf1pcoZ",
    "outputId": "9c9404f2-824f-4dbb-f97e-9922331ecaf3"
   },
   "outputs": [],
   "source": [
    "print(np.dot(Q[:, 0], Q[:, 1]))\n",
    "print(np.dot(Q[:, 0], Q[:, 2]))\n",
    "print(np.dot(Q[:, 1], Q[:, 2]))\n",
    "for i in range(Q.shape[1]):\n",
    "  print(np.linalg.norm(Q[:, i]))"
   ]
  },
  {
   "cell_type": "markdown",
   "metadata": {
    "colab_type": "text",
    "id": "ROD_X1mn1NbF"
   },
   "source": [
    "### Exercise\n",
    "\n",
    "At each step of the Gram-Schmidt process, we project a vector onto each of the previously computed vectors and subtract these components. The projection operator of vector $\\mathbf{v}$ onto vector $\\mathbf{u}$ is defined as\n",
    "\n",
    "$$\\text{proj}_{\\mathbf{u}}(\\mathbf{v}) = \\frac{\\langle \\mathbf{v}, \\mathbf{u} \\rangle}{\\langle \\mathbf{u}, \\mathbf{u} \\rangle} \\mathbf{u}$$\n",
    "\n",
    "We see this implemented on the line\n",
    "\n",
    "```\n",
    "Q[:, j] -= np.dot(Q[:, k], Q[:, j]) * Q[:, k]\n",
    "```\n",
    "\n",
    "above. How come we are missing the denominator, $\\langle\\mathbf{u}, \\mathbf{u} \\rangle = \\|\\mathbf{u}\\|^2$?"
   ]
  },
  {
   "cell_type": "markdown",
   "metadata": {
    "colab_type": "text",
    "id": "L-HwLlyrvLLz"
   },
   "source": [
    "The Gram-Schmidt process is simple, but numerically unstable and therefore not recommended in practice. Fortunately NumPy provides a more powerful method, `numpy.linalg.qr` which will compute an orthonormal basis:"
   ]
  },
  {
   "cell_type": "code",
   "execution_count": null,
   "metadata": {
    "colab": {
     "base_uri": "https://localhost:8080/",
     "height": 69
    },
    "colab_type": "code",
    "id": "kUYkxcRBvMqh",
    "outputId": "fb579ac7-359f-43b9-a69b-fc4a2e19bfe5"
   },
   "outputs": [],
   "source": [
    "Qnew, _ = np.linalg.qr(A)\n",
    "print(Qnew)"
   ]
  },
  {
   "cell_type": "markdown",
   "metadata": {
    "colab_type": "text",
    "id": "25ZCYzNYvRFJ"
   },
   "source": [
    "Comparing the result from both approaches, we can see that the orthonormal basis is not unique."
   ]
  }
 ],
 "metadata": {
  "colab": {
   "collapsed_sections": [],
   "name": "Orthogonality.ipynb",
   "provenance": []
  },
  "kernelspec": {
   "display_name": "Python 3",
   "name": "python3"
  }
 },
 "nbformat": 4,
 "nbformat_minor": 0
}
