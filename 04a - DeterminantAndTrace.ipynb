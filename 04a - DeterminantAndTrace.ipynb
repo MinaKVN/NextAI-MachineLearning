{
 "cells": [
  {
   "cell_type": "markdown",
   "metadata": {
    "colab_type": "text",
    "id": "oJzd2pGMPohn"
   },
   "source": [
    "*Credit*: some material here has been adapted from [Sam Roweis](https://www.cs.nyu.edu/home/people/in_memoriam/samroweis.html)' [Linear Algebra Review](http://www.cs.ubc.ca/~murphyk/Teaching/Papers/roweis_linAlgebra.ps)."
   ]
  },
  {
   "cell_type": "code",
   "execution_count": null,
   "metadata": {
    "colab": {},
    "colab_type": "code",
    "id": "cP9CwSc3GWut"
   },
   "outputs": [],
   "source": [
    "import numpy as np"
   ]
  },
  {
   "cell_type": "markdown",
   "metadata": {
    "colab_type": "text",
    "id": "sd354R6KLvEp"
   },
   "source": [
    "# Determinant and Trace\n",
    "\n",
    "The determinant and trace are two important properties of square ($n \\times n$) matrices.\n",
    "\n",
    "## Determinants\n",
    "\n",
    "The matrix *determinant* is a scalar quantity, normally denoted $|A|$ or $\\text{det}(A)$ whose absolute value measures how much the matrix \"stretches\" or \"squishes\" volume as it transforms its inputs to outputs and whose sign indicates whether the transformation is [orientation preserving](http://en.wikipedia.org/wiki/Orientation_%28vector_space%29). Matrices with large determinants do (on average) a lot of stretching and those with small determinants do a lot of squishing.\n",
    "\n",
    "Matrices with zero determinant have rank less than the number of rows and and actually collapse some of their input space into a line or hyperplane (pancake) in the output space, and this can be thought of doing \"infinite squishing\". Conventionally, the determinant is only defined for square matrices, but there is a natural extension to rectangular ones using the *singular value decomposition*.\n",
    "\n",
    "### Determinant of a full-rank (invertible) matrix\n",
    "\n",
    "Determinants can be computed via `numpy.linalg.det`. Let's compute the determinant for matrix\n",
    "\n",
    "$$\n",
    "\\mathbf{A} = \n",
    "\\begin{bmatrix}\n",
    "2 && 3 && 0\\\\\n",
    "3 && 2 && 7\\\\\n",
    "2 && 1 && 6\n",
    "\\end{bmatrix}\n",
    "$$"
   ]
  },
  {
   "cell_type": "code",
   "execution_count": null,
   "metadata": {
    "colab": {},
    "colab_type": "code",
    "id": "x0Jbt0GOLvEs"
   },
   "outputs": [],
   "source": [
    "A = np.array([[2, 3, 0], [3, 2, 7], [2, 1, 6]])\n",
    "print(A)\n",
    "print(np.linalg.det(A))\n",
    "print(np.linalg.det(np.linalg.inv(A)))  # note 1/det(A)\n"
   ]
  },
  {
   "cell_type": "markdown",
   "metadata": {
    "colab_type": "text",
    "id": "-V9zg5d3JF0D"
   },
   "source": [
    "### Determinant of a rank deficient matrix\n",
    "\n",
    "A rank deficient matrix will have determinant of zero. Let's compute the determinant for matrix\n",
    "\n",
    "$$\n",
    "\\mathbf{B} = \n",
    "\\begin{bmatrix}\n",
    "2 & 3 & 2\\\\\n",
    "1 & 2 & 4\\\\\n",
    "3 & 5 & 6\n",
    "\\end{bmatrix}\n",
    "$$"
   ]
  },
  {
   "cell_type": "code",
   "execution_count": null,
   "metadata": {
    "colab": {},
    "colab_type": "code",
    "id": "HMR-bI0tJDzz"
   },
   "outputs": [],
   "source": [
    "B = np.array([[2, 3, 2], [1, 2, 4], [3, 5, 6]])\n",
    "print(np.linalg.matrix_rank(B))\n",
    "print(B)\n",
    "print(np.linalg.det(B))  # not quite zero because of numerical instability"
   ]
  },
  {
   "cell_type": "markdown",
   "metadata": {
    "colab_type": "text",
    "id": "cZUgvjrcJkKq"
   },
   "source": [
    "### Exercise\n",
    "\n",
    "Show in another way that $\\mathbf{B}$ is rank deficient."
   ]
  },
  {
   "cell_type": "markdown",
   "metadata": {
    "colab_type": "text",
    "id": "kG7fuob3KU5r"
   },
   "source": [
    "## Trace\n",
    "\n",
    "The trace of a square matrix is simply the sum of its diagonal elements:\n",
    "\n",
    "$$\\mathrm{tr}(\\mathbf{A}) = \\sum_{i=1}^n a_{ii}.$$\n",
    "\n",
    "It can be computed using `numpy.trace`."
   ]
  },
  {
   "cell_type": "code",
   "execution_count": null,
   "metadata": {
    "colab": {},
    "colab_type": "code",
    "id": "BbkHE3xPKghV"
   },
   "outputs": [],
   "source": [
    "print(np.trace(A))\n",
    "print(np.diag(A).sum())"
   ]
  },
  {
   "cell_type": "markdown",
   "metadata": {
    "colab_type": "text",
    "id": "WfFk8_FALfqm"
   },
   "source": [
    "Note that $\\mathrm{tr}(\\mathbf{A}\\mathbf{B}) = \\mathrm{tr}(\\mathbf{B}\\mathbf{A})$ even if $\\mathbf{A}\\mathbf{B} \\neq \\mathbf{B}\\mathbf{A}$. This property generalizes to products of an arbitrary number of matrices. The trace is invariant under cyclic permutations."
   ]
  },
  {
   "cell_type": "code",
   "execution_count": null,
   "metadata": {
    "colab": {},
    "colab_type": "code",
    "id": "aEuRD7Z-MLI8"
   },
   "outputs": [],
   "source": [
    "np.allclose(np.trace(A.dot(B)),np.trace(B.dot(A)))"
   ]
  }
 ],
 "metadata": {
  "colab": {
   "collapsed_sections": [],
   "name": "DeterminantAndTrace.ipynb",
   "provenance": [],
   "version": "0.3.2"
  },
  "kernelspec": {
   "display_name": "Python 3",
   "name": "python3"
  }
 },
 "nbformat": 4,
 "nbformat_minor": 0
}
