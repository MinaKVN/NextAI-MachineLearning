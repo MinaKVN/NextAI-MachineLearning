{
 "cells": [
  {
   "cell_type": "markdown",
   "metadata": {},
   "source": [
    "Credit: this notebook is based on [slides created by Roland Memisevic](http://www.iro.umontreal.ca/~memisevr/teaching/mlvis2013/pythonintro.pdf). Some of the material related to objects and classes was adapted from [Stavros Korokithakis's tutorials](http://www.stavros.io/tutorials/python/)."
   ]
  },
  {
   "cell_type": "markdown",
   "metadata": {},
   "source": [
    "# Introduction\n",
    "“Python is a general-purpose, high-level programming language whose design philosophy emphasizes code readability. Python claims to combine remarkable power with very clear syntax”, and its standard library is large and comprehensive. Its use of indentation for block delimiters is unique among popular programming languages.” -- Wikipedia\n",
    "\n",
    "Some features of Python:\n",
    "\n",
    "   * Interpreted Language\n",
    "   * Strict Syntax\n",
    "   * Indentation!\n",
    "   * \"Batteries Included\"\n",
    "   * Dynamic types\n",
    "   * Mixes [imperative](http://en.wikipedia.org/wiki/Imperative_programming), object-oriented, and functional programming elements\n",
    "\n",
    "The \"IPython\" interactive shell is *highly* recommended for any kind of interactive work! Note that here, I'm using a [Jupyter Notebook](http://jupyter.org/) running in the [Google Colaboratory](https://colab.research.google.com/) environment.\n",
    "\n",
    "There are various implementations of Python available, and several (incompatible) versions. In this course, we recommend that you use the same version as Google Colaboratory's default (currently 3.6), though the materials we distribute should be compatible with Python 2.X."
   ]
  },
  {
   "cell_type": "markdown",
   "metadata": {},
   "source": [
    "# \"Hello World\""
   ]
  },
  {
   "cell_type": "code",
   "execution_count": null,
   "metadata": {},
   "outputs": [],
   "source": [
    "print(\"hello world\")"
   ]
  },
  {
   "cell_type": "code",
   "execution_count": null,
   "metadata": {},
   "outputs": [],
   "source": [
    "print(\"hello world\", 1, 2, 1 + 2)"
   ]
  },
  {
   "cell_type": "code",
   "execution_count": null,
   "metadata": {},
   "outputs": [],
   "source": [
    "a = 1\n",
    "b = 1\n",
    "print(\"hello world\", a + b)"
   ]
  },
  {
   "cell_type": "code",
   "execution_count": null,
   "metadata": {},
   "outputs": [],
   "source": [
    "a = 1\n",
    "b = \"hello\"\n",
    "print(\"hello world\", a + b)"
   ]
  },
  {
   "cell_type": "markdown",
   "metadata": {},
   "source": [
    "What happened here?"
   ]
  },
  {
   "cell_type": "code",
   "execution_count": null,
   "metadata": {},
   "outputs": [],
   "source": [
    "b = \"world\"\n",
    "print(f\"hello {b}\")"
   ]
  },
  {
   "cell_type": "markdown",
   "metadata": {},
   "source": [
    "This preferred way of formatting strings, called f-strings, was introduced in Python 3.6. An older way to format strings (compatible with Python 2 series but not recommended) is '%-formatting:'"
   ]
  },
  {
   "cell_type": "code",
   "execution_count": null,
   "metadata": {},
   "outputs": [],
   "source": [
    "print(\"hello %s\" % b)"
   ]
  },
  {
   "cell_type": "markdown",
   "metadata": {},
   "source": [
    "# Built-in data structures\n",
    "## Tuples"
   ]
  },
  {
   "cell_type": "code",
   "execution_count": null,
   "metadata": {},
   "outputs": [],
   "source": [
    "T = (1, 2, 3, \"hello\")\n",
    "print(T[0])"
   ]
  },
  {
   "cell_type": "markdown",
   "metadata": {},
   "source": [
    "Note that in Python, indexing starts at 0!"
   ]
  },
  {
   "cell_type": "markdown",
   "metadata": {},
   "source": [
    "## Lists"
   ]
  },
  {
   "cell_type": "code",
   "execution_count": null,
   "metadata": {},
   "outputs": [],
   "source": [
    "L = [1, 2, 3, \"hello\"]\n",
    "L[0] = \"Lists are mutable\"\n",
    "print(L[0])"
   ]
  },
  {
   "cell_type": "code",
   "execution_count": null,
   "metadata": {},
   "outputs": [],
   "source": [
    "L.append(\"goodbye\")\n",
    "print(L[-1])"
   ]
  },
  {
   "cell_type": "markdown",
   "metadata": {},
   "source": [
    "## Dictionaries (\"Hashes\")"
   ]
  },
  {
   "cell_type": "code",
   "execution_count": null,
   "metadata": {},
   "outputs": [],
   "source": [
    "D = {\"a\": 1, \"b\": 2}\n",
    "print(D[\"a\"])"
   ]
  },
  {
   "cell_type": "markdown",
   "metadata": {},
   "source": [
    "# Functions, control structures\n",
    "## Function definition"
   ]
  },
  {
   "cell_type": "code",
   "execution_count": null,
   "metadata": {},
   "outputs": [],
   "source": [
    "def timesfour(x):\n",
    "    return 4 * x\n",
    "\n",
    "print(timesfour(2))"
   ]
  },
  {
   "cell_type": "markdown",
   "metadata": {},
   "source": [
    "# Control structures\n",
    "## If-then-else"
   ]
  },
  {
   "cell_type": "code",
   "execution_count": null,
   "metadata": {},
   "outputs": [],
   "source": [
    "s = \"z\"\n",
    "if s == \"y\":\n",
    "    print(\"y\")\n",
    "elif s == \"z\":\n",
    "    print(\"z\")\n",
    "else:\n",
    "    print(\"b\")"
   ]
  },
  {
   "cell_type": "markdown",
   "metadata": {},
   "source": [
    "### While"
   ]
  },
  {
   "cell_type": "code",
   "execution_count": null,
   "metadata": {},
   "outputs": [],
   "source": [
    "a = 1.0\n",
    "s = \"hello\"\n",
    "while a != 10.0 and s == \"hello\":\n",
    "    a = a + 1.0\n",
    "print(a)"
   ]
  },
  {
   "cell_type": "markdown",
   "metadata": {},
   "source": [
    "### For-loops"
   ]
  },
  {
   "cell_type": "code",
   "execution_count": null,
   "metadata": {},
   "outputs": [],
   "source": [
    "for i in range(3):\n",
    "    print(i)"
   ]
  },
  {
   "cell_type": "code",
   "execution_count": null,
   "metadata": {},
   "outputs": [],
   "source": [
    "for i in [1, 2, 'x', 3, 4, 'h', 5]:\n",
    "    print(i)"
   ]
  },
  {
   "cell_type": "markdown",
   "metadata": {},
   "source": [
    "Note that either double or single quotes can be used to delimit strings.\n",
    "# Everything is an object\n",
    "   * Functions, too.\n",
    "   * Objects have member components (functions and attributes)."
   ]
  },
  {
   "cell_type": "code",
   "execution_count": null,
   "metadata": {},
   "outputs": [],
   "source": [
    "type(timesfour)"
   ]
  },
  {
   "cell_type": "markdown",
   "metadata": {},
   "source": [
    "## Defining classes"
   ]
  },
  {
   "cell_type": "code",
   "execution_count": null,
   "metadata": {},
   "outputs": [],
   "source": [
    "# here \"object\" specifies the superclass\n",
    "class MyClass(object):\n",
    "    common = 10\n",
    "    # this is a constructor\n",
    "    def __init__(self):\n",
    "        self.myvariable = 3\n",
    "    def myfunction(self, arg1, arg2):\n",
    "        return self.myvariable\n",
    "\n",
    "classinstance = MyClass()\n",
    "# note that arguments passed to myfunction are ignored\n",
    "print('classinstance.myfunction(1, 2): %s' % classinstance.myfunction(1, 2))\n",
    "\n",
    "classinstance2 = MyClass()\n",
    "# This variable is shared by all classes.\n",
    "print ('classinstance.common: %s' % classinstance.common)\n",
    "print ('classinstance2.common: %s' % classinstance2.common)"
   ]
  },
  {
   "cell_type": "code",
   "execution_count": null,
   "metadata": {},
   "outputs": [],
   "source": [
    "# Note how we use the class name instead of the instance.\n",
    "MyClass.common = 30\n",
    "print ('classinstance.common: %s' % classinstance.common)\n",
    "print ('classinstance2.common: %s' % classinstance2.common)"
   ]
  },
  {
   "cell_type": "code",
   "execution_count": null,
   "metadata": {},
   "outputs": [],
   "source": [
    "# This will not update the variable on the class,\n",
    "# instead it will bind a new object to the old\n",
    "# variable name.\n",
    "classinstance.common = 10\n",
    "print ('classinstance.common: %s' % classinstance.common)\n",
    "print ('classinstance2.common: %s' % classinstance2.common)"
   ]
  },
  {
   "cell_type": "code",
   "execution_count": null,
   "metadata": {},
   "outputs": [],
   "source": [
    "MyClass.common = 50\n",
    "# This has not changed, because classinstance.common is\n",
    "# now an instance variable.\n",
    "print ('classinstance.common: %s' % classinstance.common)\n",
    "# but this has changed\n",
    "print ('classinstance2.common: %s' % classinstance2.common)"
   ]
  },
  {
   "cell_type": "code",
   "execution_count": null,
   "metadata": {},
   "outputs": [],
   "source": [
    "# This class inherits from MyClass. The example\n",
    "# class above inherits from \"object\", which makes\n",
    "# it what's called a \"new-style class\".\n",
    "# You can read more about these here: http://stackoverflow.com/a/54873\n",
    "# Multiple inheritance is declared as:\n",
    "# class OtherClass(MyClass1, MyClass2, MyClassN)\n",
    "class OtherClass(MyClass):\n",
    "    # The \"self\" argument is passed automatically\n",
    "    # and refers to the class instance, so you can set\n",
    "    # instance variables as above, but from inside the class.\n",
    "    def __init__(self, arg1):\n",
    "        self.myvariable = 3\n",
    "        print(arg1)"
   ]
  },
  {
   "cell_type": "code",
   "execution_count": null,
   "metadata": {},
   "outputs": [],
   "source": [
    "classinstance = OtherClass(\"hello\")\n",
    "print ('classinstance.myfunction(1, 2): %s' % classinstance.myfunction(1, 2))"
   ]
  },
  {
   "cell_type": "code",
   "execution_count": null,
   "metadata": {},
   "outputs": [],
   "source": [
    "# This class doesn't have a .test member, but\n",
    "# we can add one to the instance anyway. Note\n",
    "# that this will only be a member of classinstance.\n",
    "classinstance.test = 10\n",
    "print ('classinstance.test: %s' % classinstance.test)"
   ]
  },
  {
   "cell_type": "markdown",
   "metadata": {},
   "source": [
    "However, note that we can get pretty far without needing classes!"
   ]
  },
  {
   "cell_type": "markdown",
   "metadata": {},
   "source": [
    "# Getting help\n",
    "When working interactively,"
   ]
  },
  {
   "cell_type": "code",
   "execution_count": null,
   "metadata": {},
   "outputs": [],
   "source": [
    "a = [1,2,3]\n",
    "help(a)"
   ]
  },
  {
   "cell_type": "markdown",
   "metadata": {},
   "source": [
    "``help`` expects the *object* you need help about. Just instantiate one, if you do not have it!\n",
    "\n",
    "The ``?`` operator is also useful (only works in IPython and Jupyter):"
   ]
  },
  {
   "cell_type": "code",
   "execution_count": null,
   "metadata": {},
   "outputs": [],
   "source": [
    "list?"
   ]
  },
  {
   "cell_type": "markdown",
   "metadata": {},
   "source": [
    "IPython also has a number of so-called \"magic\" functions: e.g. %autoreload, %paste, %debug, %hist, %timeit. Type %magic at a prompt to learn more."
   ]
  },
  {
   "cell_type": "code",
   "execution_count": null,
   "metadata": {},
   "outputs": [],
   "source": [
    "%lsmagic"
   ]
  },
  {
   "cell_type": "markdown",
   "metadata": {},
   "source": [
    "# Scripts, modules, packages\n",
    "* Naming convention for scripts: \".py\"\n",
    "   * ``python myscript.py``\n",
    "* In IPython we can use:\n",
    "   * ``%run myscript.py``"
   ]
  },
  {
   "cell_type": "code",
   "execution_count": null,
   "metadata": {},
   "outputs": [],
   "source": [
    "%%file mytest.py\n",
    "for i in range(3):\n",
    "    print(\"hello %d\" % i)"
   ]
  },
  {
   "cell_type": "code",
   "execution_count": null,
   "metadata": {},
   "outputs": [],
   "source": [
    "%run mytest.py"
   ]
  },
  {
   "cell_type": "markdown",
   "metadata": {},
   "source": [
    "## Modules\n",
    "* Combine common functionality in \"modules\" (= \"libraries\")\n",
    "* Same naming convention as for scripts: \".py\"\n",
    "* Can combine modules in **packages**\n",
    "\n",
    "To use a module:"
   ]
  },
  {
   "cell_type": "code",
   "execution_count": null,
   "metadata": {},
   "outputs": [],
   "source": [
    "import datetime\n",
    "# imports a single object\n",
    "from datetime import date\n",
    "# imports everything (careful, pollutes namespace)\n",
    "from datetime import *"
   ]
  },
  {
   "cell_type": "markdown",
   "metadata": {},
   "source": [
    "Remember, everything is an object. Access the contents of modules accordingly."
   ]
  },
  {
   "cell_type": "code",
   "execution_count": null,
   "metadata": {},
   "outputs": [],
   "source": [
    "from datetime import datetime\n",
    "datetime.now()\n",
    "myobject = datetime.month\n",
    "print(myobject)"
   ]
  },
  {
   "cell_type": "markdown",
   "metadata": {},
   "source": [
    "# Packages for data crunching\n",
    "\n",
    "## NumPy\n",
    "\n",
    "NumPy is the fundamental package for scientific computing with Python.\n",
    "\n",
    "## Matplotlib\n",
    "\n",
    "Matplotlib is a Python plotting library, inspired by MATLAB. It can be used both within a traditional Python system (via the object-oriented API) but also in a more convenient form in Jupyter and IPython via the PyPlot interface.\n",
    "\n",
    "## PyPlot\n",
    "\n",
    "PyPlot is a shell-like interface to Matplotlib, with a similar look and feel to MATLAB.\n",
    "\n",
    "The most common way to interact with PyPlot is as follows\n",
    "\n",
    "```\n",
    "import matplotlib.pyplot as plt\n",
    "import numpy as np\n",
    "```\n",
    "\n",
    "## SciPy\n",
    "\n",
    "SciPy is an ecosystem of open-source software for mathematics, science, and engineering. It includes NumPy, Matplotlib, IPython, Sympy and pandas. There is also a library called SciPy, part of this same ecosytem, which is a fundamental library for scientific computing. It is more for specific needs, like Fourier transforms, special functions, etc.\n",
    "\n",
    "## Pylab\n",
    "\n",
    "The PyPlot and NumPy namespaces can be combined into a single one via PyLab. Its use is now discouraged, but we'll use it in this notebook for simplicity. In future notebooks we will import PyPlot and NumPy separately, as above."
   ]
  },
  {
   "cell_type": "code",
   "execution_count": null,
   "metadata": {},
   "outputs": [],
   "source": [
    "from matplotlib.pylab import *"
   ]
  },
  {
   "cell_type": "markdown",
   "metadata": {},
   "source": [
    "# NumPy arrays\n",
    "* The central object for representing *data* is the NumPy array.\n",
    "* It is an n-dimensional generalization of a matrix.\n",
    "* It can hold data of various types, like int, float, string, etc.\n",
    "* The most common use is for representing vectors and matrices filled with numbers (such as floats)\n",
    "* One way to generate an array is to use ``numpy.array``\n",
    "* But we'll see other ways soon\n",
    "\n",
    "The wildcard import with the ``*`` above, although being bad practice, imports PyLab into the global namespace. That lets us refer to ``array`` instead of ``numpy.array``, and so on."
   ]
  },
  {
   "cell_type": "code",
   "execution_count": null,
   "metadata": {},
   "outputs": [],
   "source": [
    "array([1,2,3])"
   ]
  },
  {
   "cell_type": "code",
   "execution_count": null,
   "metadata": {},
   "outputs": [],
   "source": [
    "ones((2,3))"
   ]
  },
  {
   "cell_type": "code",
   "execution_count": null,
   "metadata": {},
   "outputs": [],
   "source": [
    "zeros((3,2))"
   ]
  },
  {
   "cell_type": "code",
   "execution_count": null,
   "metadata": {},
   "outputs": [],
   "source": [
    "eye(4)"
   ]
  },
  {
   "cell_type": "code",
   "execution_count": null,
   "metadata": {},
   "outputs": [],
   "source": [
    "# draw from normal distribution with mean 0, std 1\n",
    "randn(2,2)"
   ]
  },
  {
   "cell_type": "markdown",
   "metadata": {},
   "source": [
    "There are many other useful commands built in, e.g. ``load()``, ``save()``, ``loadtxt()``, etc."
   ]
  },
  {
   "cell_type": "markdown",
   "metadata": {},
   "source": [
    "NumPy arrays have many useful member components:"
   ]
  },
  {
   "cell_type": "code",
   "execution_count": null,
   "metadata": {},
   "outputs": [],
   "source": [
    "a = array([[1,2,3],[4,5,6]])\n",
    "print(a)\n",
    "print(a.T)"
   ]
  },
  {
   "cell_type": "code",
   "execution_count": null,
   "metadata": {},
   "outputs": [],
   "source": [
    "a.mean(0)"
   ]
  },
  {
   "cell_type": "code",
   "execution_count": null,
   "metadata": {},
   "outputs": [],
   "source": [
    "a.mean(1)"
   ]
  },
  {
   "cell_type": "code",
   "execution_count": null,
   "metadata": {},
   "outputs": [],
   "source": [
    "a.mean()"
   ]
  },
  {
   "cell_type": "code",
   "execution_count": null,
   "metadata": {},
   "outputs": [],
   "source": [
    "a.std(0)"
   ]
  },
  {
   "cell_type": "code",
   "execution_count": null,
   "metadata": {},
   "outputs": [],
   "source": [
    "a.max()"
   ]
  },
  {
   "cell_type": "markdown",
   "metadata": {},
   "source": [
    "One of the most useful built-in commands is ``shape``:"
   ]
  },
  {
   "cell_type": "code",
   "execution_count": null,
   "metadata": {},
   "outputs": [],
   "source": [
    "print(randn(3,3).shape)\n",
    "print(randn(2,5,7,3).shape)\n",
    "print(array([1,2,3,4]).shape)"
   ]
  },
  {
   "cell_type": "markdown",
   "metadata": {},
   "source": [
    "## Doing computations\n",
    "To do computations on arrays, numpy as functions like\n",
    "\n",
    "* ``exp()``, ``log()``, ``cos()``, ``sin()``\n",
    "\n",
    "and operators like\n",
    "\n",
    "* ``+``, ``-``, ``*``, ``/``\n",
    "\n",
    "These typically operate *elementwise*.\n",
    "\n",
    "Other useful matrix operations include\n",
    "\n",
    "* ``dot()``, ``numpy.linalg.svd()``, ``numpy.linalg.eig()``"
   ]
  },
  {
   "cell_type": "markdown",
   "metadata": {},
   "source": [
    "## Accessing your data"
   ]
  },
  {
   "cell_type": "code",
   "execution_count": null,
   "metadata": {},
   "outputs": [],
   "source": [
    "a = array([1,2,3])\n",
    "print(a[0])\n",
    "print(a[1])"
   ]
  },
  {
   "cell_type": "code",
   "execution_count": null,
   "metadata": {},
   "outputs": [],
   "source": [
    "a = array([[1,2,3],[4,5,6]])\n",
    "print(a[0,0])\n",
    "print(a[1,2])"
   ]
  },
  {
   "cell_type": "code",
   "execution_count": null,
   "metadata": {},
   "outputs": [],
   "source": [
    "a = randn(2,3,4)\n",
    "print(a)\n",
    "print(a[0,0,0])\n",
    "print(a[0,1,3])"
   ]
  },
  {
   "cell_type": "code",
   "execution_count": null,
   "metadata": {},
   "outputs": [],
   "source": [
    "a = array([[1,2,3,4],[5,6,7,8],[9,10,11,12]])\n",
    "print(a)\n",
    "print(a[0, :])  # a \"slice\"\n",
    "print(a[:, 0])  # another \"slice\"\n",
    "print(a[1:3, 0])  # another \"slice\"\n",
    "print(a[1:3, :])  # another \"slice\" (this is a 2-d block)"
   ]
  },
  {
   "cell_type": "markdown",
   "metadata": {},
   "source": [
    "# Plotting"
   ]
  },
  {
   "cell_type": "code",
   "execution_count": null,
   "metadata": {},
   "outputs": [],
   "source": [
    "x = arange(0,pi,pi/180)\n",
    "plot(x, cos(x))"
   ]
  },
  {
   "cell_type": "code",
   "execution_count": null,
   "metadata": {},
   "outputs": [],
   "source": [
    "x1 = 1 + 0.1*randn(20)\n",
    "y1 = 1 + 0.1*randn(20)\n",
    "x2 = -1 + 0.5*randn(20)\n",
    "y2 = -1 + 0.5*randn(20)\n",
    "scatter(x1,y1)\n",
    "scatter(x2,y2,c='r',marker='x')\n",
    "xlim(-2,2)\n",
    "ylim(-2,2)\n",
    "legend(['class 1', 'class2'], loc='lower right')"
   ]
  },
  {
   "cell_type": "code",
   "execution_count": null,
   "metadata": {},
   "outputs": [],
   "source": [
    "subplot(1,2,1)\n",
    "hist(randn(200),bins=10)\n",
    "ylabel('counts')\n",
    "xlabel('bins')\n",
    "subplot(1,2,2)\n",
    "boxplot(randn(200))\n",
    "title('box and whisker plot')\n"
   ]
  },
  {
   "cell_type": "markdown",
   "metadata": {},
   "source": [
    "In a *box and whisker plot*, the box extends from the lower to upper quartile values of the data, with a line at the median. The whiskers extend from the box to show the range of the data.  Outlier points are those past the end of the whiskers.\n"
   ]
  },
  {
   "cell_type": "markdown",
   "metadata": {},
   "source": [
    "# Broadcasting and newaxis\n",
    "How do you add a $2 \\times 5$ matrix and a $1 \\times 5$ vector?\n",
    "\n",
    "* In Matlab, you would use ``repmat`` (or for the pros, ``bsxfun``). You can use Python's ``repmat`` equivalent, called ``tile``.\n",
    "* However, NumPy comes with another possibility, called \"broadcasting\"\n",
    "* NumPy will always try to copy every dimension in each array as often as it needs to make the dimensions fit\n",
    "\n",
    "![title](https://scipy-lectures.org/_images/numpy_broadcasting.png)"
   ]
  },
  {
   "cell_type": "code",
   "execution_count": null,
   "metadata": {},
   "outputs": [],
   "source": [
    "print((randn(2,5) + randn(1,5)).shape)\n"
   ]
  },
  {
   "cell_type": "markdown",
   "metadata": {},
   "source": [
    "How about a $2 \\times 5$ matrix plus a $1 \\times 5 \\times 3$ tensor?"
   ]
  },
  {
   "cell_type": "code",
   "execution_count": null,
   "metadata": {},
   "outputs": [],
   "source": [
    "print(randn(2,5).shape)\n",
    "print(randn(2,5) + randn(1,5,3))"
   ]
  },
  {
   "cell_type": "markdown",
   "metadata": {},
   "source": [
    "We need to make the number of dimensions match. Solution: Numpy's ``newaxis``"
   ]
  },
  {
   "cell_type": "code",
   "execution_count": null,
   "metadata": {},
   "outputs": [],
   "source": [
    "print(randn(2,5)[:,:,newaxis].shape)\n",
    "print((randn(2,5)[:,:,newaxis] + randn(1,5,3)).shape)"
   ]
  },
  {
   "cell_type": "markdown",
   "metadata": {},
   "source": [
    "# Style\n",
    "\n",
    "Python has its own style convention called [\"PEP8\"](http://www.python.org/dev/peps/pep-0008). This is a great resource to check out if you are unsure about how to format your code. There are also command-line tools (e.g. ``pep8``) which will verify your code against the standard. Most serious open-source projects will expect you to adhere to the PEP8 standard before contributing code."
   ]
  },
  {
   "cell_type": "markdown",
   "metadata": {},
   "source": [
    "# Additional resources\n",
    "\n",
    "Here's a short YouTube video about NumPy arrays:\n"
   ]
  },
  {
   "cell_type": "code",
   "execution_count": null,
   "metadata": {},
   "outputs": [],
   "source": [
    "from IPython.display import YouTubeVideo\n",
    "# a short video about using NumPy arrays, from Enthought\n",
    "YouTubeVideo('vWkb7VahaXQ')"
   ]
  },
  {
   "cell_type": "markdown",
   "metadata": {},
   "source": [
    "* My favourite tutorial for scientific Python is the [Python Scientific Lecture Notes](http://scipy-lectures.github.io/)\n",
    "* If you're already a Matlab user, see [NumPy for Matlab users](https://docs.scipy.org/doc/numpy/user/numpy-for-matlab-users.html) is a useful reference\n",
    "* J.R. Johanssen's [Lectures on scientific computing with Python](https://github.com/jrjohansson/scientific-python-lectures)"
   ]
  }
 ],
 "metadata": {
  "anaconda-cloud": {},
  "kernelspec": {
   "display_name": "Python 3",
   "language": "python",
   "name": "python3"
  },
  "language_info": {
   "codemirror_mode": {
    "name": "ipython",
    "version": 3
   },
   "file_extension": ".py",
   "mimetype": "text/x-python",
   "name": "python",
   "nbconvert_exporter": "python",
   "pygments_lexer": "ipython3",
   "version": "3.6.10"
  }
 },
 "nbformat": 4,
 "nbformat_minor": 1
}
