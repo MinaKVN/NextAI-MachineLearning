{
 "cells": [
  {
   "cell_type": "code",
   "execution_count": null,
   "metadata": {
    "colab": {},
    "colab_type": "code",
    "id": "_h1IyDdBVM14"
   },
   "outputs": [],
   "source": [
    "import numpy as np\n",
    "from numpy.linalg import inv"
   ]
  },
  {
   "cell_type": "markdown",
   "metadata": {
    "colab_type": "text",
    "id": "ovZaM9JiVR3c"
   },
   "source": [
    "# Eigendecomposition and Diagonalization\n",
    "\n",
    "Let's work through Example 4.11 using NumPy.\n",
    "\n",
    "We would like to compute the eigendecomposition of \n",
    "$\n",
    "\\mathbf{A} = \n",
    "\\begin{bmatrix}\n",
    "2 & 1\\\\\n",
    "1 & 2\n",
    "\\end{bmatrix}\n",
    "$.\n",
    "\n",
    "Step 1 is to compute eigenvalues and eigenvectors. Instead of using the characteristic polynomial, we will use `numpy.eig`:"
   ]
  },
  {
   "cell_type": "code",
   "execution_count": null,
   "metadata": {
    "colab": {},
    "colab_type": "code",
    "id": "XhZtETUdV4aA"
   },
   "outputs": [],
   "source": [
    "A = np.array([[2, 1], [1, 2]])\n",
    "d, P = np.linalg.eig(A)\n",
    "print(d)\n",
    "print(P)"
   ]
  },
  {
   "cell_type": "markdown",
   "metadata": {
    "colab_type": "text",
    "id": "ztYrl7e6WEcJ"
   },
   "source": [
    "Step 2 is to check for existence. The eigenvectors \n",
    "$\n",
    "\\frac{1}{\\sqrt{2}}\n",
    "\\begin{bmatrix}\n",
    "1\\\\\n",
    "-1\n",
    "\\end{bmatrix}\n",
    "$\n",
    "and\n",
    "$\n",
    "\\frac{1}{\\sqrt{2}}\n",
    "\\begin{bmatrix}\n",
    "1\\\\\n",
    "1\n",
    "\\end{bmatrix}\n",
    "$\n",
    "form a basis of $\\mathbb{R}^2$. Therefore $\\mathbf{A}$ can be diagonalized.\n",
    "\n"
   ]
  },
  {
   "cell_type": "markdown",
   "metadata": {
    "colab_type": "text",
    "id": "AGLFF2RkW9Gw"
   },
   "source": [
    "Step 3 is to construct the matrix $P$ to diagonalize $A$. `numpy.eig` already returns the eigenvectors as the columns of a matrix, so we are good to go. Let's form $\\mathbf{D} = \\mathbf{P}^{-1}\\mathbf{A}\\mathbf{P}$:"
   ]
  },
  {
   "cell_type": "code",
   "execution_count": null,
   "metadata": {
    "colab": {},
    "colab_type": "code",
    "id": "OYu7pCzmXTro"
   },
   "outputs": [],
   "source": [
    "D = np.linalg.multi_dot([inv(P), A, P])\n",
    "print(D)"
   ]
  },
  {
   "cell_type": "markdown",
   "metadata": {
    "colab_type": "text",
    "id": "zBr9Tsb_XeGP"
   },
   "source": [
    "## Geometric intuition for the eigendecomposition\n",
    "\n",
    "We have successfully diagonalized $\\mathbf{A}$. Let's verify that applying the linear mapping represented by $\\mathbf{A}$ to a vector $\\mathbf{x} = \n",
    "\\begin{bmatrix}\n",
    "1 & 1\n",
    "\\end{bmatrix}^{\\top}\n",
    "$ is equivalent to first applying a change of basis, then scaling, then undoing the change of basis."
   ]
  },
  {
   "cell_type": "code",
   "execution_count": null,
   "metadata": {
    "colab": {},
    "colab_type": "code",
    "id": "RBL4AqyxYW_O"
   },
   "outputs": [],
   "source": [
    "x = np.array([1, 1])\n",
    "np.dot(A, x)"
   ]
  },
  {
   "cell_type": "markdown",
   "metadata": {
    "colab_type": "text",
    "id": "dpIsUswIYzOk"
   },
   "source": [
    "First, the change of basis:"
   ]
  },
  {
   "cell_type": "code",
   "execution_count": null,
   "metadata": {
    "colab": {},
    "colab_type": "code",
    "id": "HjtsXcGlYoCf"
   },
   "outputs": [],
   "source": [
    "b = np.dot(inv(P), x)\n",
    "print(b)\n"
   ]
  },
  {
   "cell_type": "markdown",
   "metadata": {
    "colab_type": "text",
    "id": "aTtVhTZ2Y2Vu"
   },
   "source": [
    "Now the scaling:"
   ]
  },
  {
   "cell_type": "code",
   "execution_count": null,
   "metadata": {
    "colab": {},
    "colab_type": "code",
    "id": "hJstbfg1Y97Q"
   },
   "outputs": [],
   "source": [
    "b_scaled = np.dot(D, b)\n",
    "print(b_scaled)"
   ]
  },
  {
   "cell_type": "markdown",
   "metadata": {
    "colab_type": "text",
    "id": "pqEHyENOZL5f"
   },
   "source": [
    "Now undoing the change of basis:"
   ]
  },
  {
   "cell_type": "code",
   "execution_count": null,
   "metadata": {
    "colab": {},
    "colab_type": "code",
    "id": "nlkX2RDiZQBf"
   },
   "outputs": [],
   "source": [
    "np.dot(P, b_scaled)"
   ]
  },
  {
   "cell_type": "markdown",
   "metadata": {
    "colab_type": "text",
    "id": "FEEvZJ-eZU1O"
   },
   "source": [
    "We see that this is equivalent to the linear mapping with $\\mathbf{A}$."
   ]
  },
  {
   "cell_type": "markdown",
   "metadata": {
    "colab_type": "text",
    "id": "zFBc6ut8ZaVf"
   },
   "source": [
    "### Exercise\n",
    "\n",
    "We read that if the eigendecomposition exists, then the determinant can easily be computed as\n",
    "\n",
    "$$\n",
    "\\det(\\mathbf{A}) = \\det(\\mathbf{PDP}^{-1})=\\det(\\mathbf{P})\\det(\\mathbf{D})\\det(\\mathbf{P}^{-1})\n",
    "$$\n",
    "\n",
    "Since $\\mathbf{D}$ is diagonal, we know that its determinant is simply the product of its diagonal elements. But why is it easy to compute the determinant of $\\mathbf{P}$ or $\\mathbf{P}^{-1}$?"
   ]
  }
 ],
 "metadata": {
  "colab": {
   "collapsed_sections": [],
   "name": "EigendecompositionAndDiagonalization.ipynb",
   "provenance": [],
   "version": "0.3.2"
  },
  "kernelspec": {
   "display_name": "Python 3",
   "name": "python3"
  }
 },
 "nbformat": 4,
 "nbformat_minor": 0
}
