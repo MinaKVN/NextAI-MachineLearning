{
 "cells": [
  {
   "cell_type": "markdown",
   "metadata": {
    "colab_type": "text",
    "id": "FI4gjuRVLvEK"
   },
   "source": [
    "*Credit*: some material here has been adapted from [Machine Learning: A Probabilistic Perspective](https://www.cs.ubc.ca/~murphyk/MLbook/) by Kevin P. Murphy (Chapter 2).\n"
   ]
  },
  {
   "cell_type": "code",
   "execution_count": null,
   "metadata": {
    "colab": {},
    "colab_type": "code",
    "id": "3dyf5H0Gjwul"
   },
   "outputs": [],
   "source": [
    "import numpy as np\n",
    "import matplotlib.pyplot as plt"
   ]
  },
  {
   "cell_type": "markdown",
   "metadata": {
    "colab_type": "text",
    "id": "8XsBbx4Aa-Dl"
   },
   "source": [
    "# Discrete and Continuous Probabilities\n",
    "\n",
    "## What is probability?\n",
    " \n",
    "* At least two different interpretations:\n",
    "    * **Frequentist**: probabilities are long-run frequencies of events\n",
    "    * **Bayesian**: probabilities are used to quantify our **uncertainty**\n",
    "\n",
    "One advantage of the Bayesian interpretation is that it can be used to model events that do not have long-term frequencies. "
   ]
  },
  {
   "cell_type": "markdown",
   "metadata": {
    "colab_type": "text",
    "id": "sFSC0OsHa-Dm"
   },
   "source": [
    "## Discrete random variables\n",
    "\n",
    "$P(A)$ denotes the probability that the event $A$ is true\n",
    "\n",
    "* $0 \\leq P(A) \\leq 1$\n",
    "\n",
    "We write $P(\\bar{A})$ to denote the probability of the event \"not $A$\"\n",
    "\n",
    "* $P(\\bar{A}) = 1 - P(A)$\n",
    "\n",
    "We can extend the notion of binary events by defining a **discrete random variable** $X$ which can take on any value from a finite or countably infinite set $\\mathcal{X}$. We denote the probability of the event that $X = x$ by $P(X = x)$ or just $p(x)$ for short. The reason we do that is we can think of probability as a function that takes a state $x$ and returns a real number.\n",
    "\n",
    "* $0 \\leq p(x) \\leq 1$\n",
    "* $\\sum_{x \\in \\mathcal{X}} p(x) = 1$\n",
    "\n",
    "Let's look at some discrete distributions:"
   ]
  },
  {
   "cell_type": "code",
   "execution_count": null,
   "metadata": {
    "colab": {},
    "colab_type": "code",
    "id": "kYJTeNvoa-Dn"
   },
   "outputs": [],
   "source": [
    "fig, ax = plt.subplots(1, 2)\n",
    "\n",
    "ax[0].bar([1, 2, 3, 4],[0.25, 0.25, 0.25, 0.25], align='center')\n",
    "ax[0].set_ylim([0, 1])\n",
    "_ = ax[0].set_xticks([1, 2, 3, 4])\n",
    "ax[0].set_title('Uniform distribution')\n",
    "\n",
    "ax[1].bar([1, 2, 3, 4],[0, 1.0, 0, 0], align='center')\n",
    "ax[1].set_ylim([0, 1])\n",
    "_ = ax[1].set_xticks([1, 2, 3, 4])\n",
    "ax[1].set_title('Degenerate distribution')"
   ]
  },
  {
   "cell_type": "markdown",
   "metadata": {
    "colab_type": "text",
    "id": "nEggmWOFa-Ds"
   },
   "source": [
    "## Fundamental rules\n",
    "\n",
    "### Probability of a union of two events\n",
    "\n",
    "Given two events, $A$ and $B$, we define the probability of $A$ or $B$ as\n",
    "\n",
    "$$\n",
    "\\begin{align}\n",
    "P(A \\lor B) &= P(A) + P(B) - P(A \\land B) \\\\\n",
    "&= P(A) + P(B) & \\text{if $A$ and $B$ are mutually exclusive}\n",
    "\\end{align}\n",
    "$$\n",
    "\n",
    "### Joint probabilities\n",
    "\n",
    "We define the probability of the joint event $A$ and $B$ as \n",
    "\n",
    "$$\n",
    "P(A,B) = P(A \\land B) = P(A|B)P(B)\n",
    "$$\n",
    "\n",
    "Given a **joint distribution** on two events p(A,B), we define the **marginal distribution** as\n",
    "\n",
    "$$\n",
    "P(A) = \\sum_b P(A,B) = \\sum_b P(A|B)P(B)\n",
    "$$\n",
    "\n",
    "### Conditional probability\n",
    "\n",
    "We define the **conditional probability** of event $A$, given that event $B$ is true, as\n",
    "\n",
    "$$\n",
    "\\begin{align}\n",
    "P(A|B) &= \\frac{P(A,B)}{P(B)} & \\text{if $P(B) > 0$}\n",
    "\\end{align}\n",
    "$$\n",
    "\n",
    "### Joint and conditional probability for discrete random variables\n",
    "\n",
    "We can extend joint and conditional probability of binary events to discrete random variables, similarly to above.\n",
    "\n",
    "For two random variables $X$ and $Y$, the probability that $X=x$ and $Y=y$ is written as $P(X=x, Y=y)$ or $p(x,y)$ for short.\n",
    "\n",
    "If we consider only instances where $X=x$, then \n",
    "the fraction of instances where $Y=y$ is the conditional probability which is written as $p(y|x)$ for short.\n",
    "\n",
    "## Continuous random variables\n",
    "\n",
    "Suppose $X$ is some uncertain continuous quantity. The probability that $X$ lies in any interval $a \\leq X \\leq b$ can be computed as follows. Define the events $A = (X \\leq a), B = (X \\leq b)$ and $W = (a < X \\leq b)$. We have that $B = A \\vee W$, and since $A$ and $W$ are mutually exclusive, the sum rule gives\n",
    "\n",
    "$$P(B) = P(A) + P(W)$$\n",
    "\n",
    "and hence\n",
    "\n",
    "$P(W) = P(B) - P(A)$\n",
    "\n",
    "Define the function $F_X(x) \\triangleq p(X \\leq x)$. This is called the **cumulative distribution function** or **cdf** of $X$. This is a monotonically non-decreasing function."
   ]
  },
  {
   "cell_type": "code",
   "execution_count": null,
   "metadata": {
    "colab": {},
    "colab_type": "code",
    "id": "TEfm-TM2a-Dt"
   },
   "outputs": [],
   "source": [
    "# CDF of Gaussian N(0,1)\n",
    "import scipy.stats as stats\n",
    "f = lambda x : stats.norm.cdf(x, 0, 1)\n",
    "x = np.arange(-3, 3, 0.1)\n",
    "y = f(x)\n",
    "\n",
    "plt.plot(x, y, 'b')\n",
    "plt.title('CDF')"
   ]
  },
  {
   "cell_type": "markdown",
   "metadata": {
    "colab_type": "text",
    "id": "T6gZtP9ya-Dv"
   },
   "source": [
    "Using the above notation, we have\n",
    "$$P(a < X \\leq b) = F_X(b) - F_X(a)$$\n",
    "\n",
    "Now define $f(x) = \\frac{d}{dx} F_X(x)$ (we assume this derivative exists); this is called a **probability density function** or **pdf**. Given a pdf, we can compute the probability of a continuous variable being in a finite interval as follows:\n",
    "\n",
    "$$P(a < X \\leq b) = \\int_a^b f(x) dx$$"
   ]
  },
  {
   "cell_type": "code",
   "execution_count": null,
   "metadata": {
    "colab": {},
    "colab_type": "code",
    "id": "y7AzP5Yxa-Dw"
   },
   "outputs": [],
   "source": [
    "# PDF of Gaussian N(0,1)\n",
    "# shaded area has 0.05 of the mass\n",
    "# also written mu +/- 2 \\sigma\n",
    "f = lambda x : stats.norm.pdf(x, 0, 1)\n",
    "x = np.arange(-4, 4, 0.1)\n",
    "y = f(x)\n",
    "\n",
    "plt.plot(x, y, 'b')\n",
    "l_x = np.arange(-4, -1.96, 0.01)\n",
    "plt.fill_between(l_x, f(l_x))\n",
    "u_x = np.arange(1.96, 4, 0.01)\n",
    "plt.fill_between(u_x, f(u_x))\n",
    "\n",
    "plt.title('PDF')"
   ]
  },
  {
   "cell_type": "markdown",
   "metadata": {
    "colab_type": "text",
    "id": "9qO2c4pna-Dy"
   },
   "source": [
    "We require that the density $f(x) \\geq 0$, but it is possible for $f(x)>1$ for any given $x$, so long as it integrates to 1."
   ]
  },
  {
   "cell_type": "code",
   "execution_count": null,
   "metadata": {
    "colab": {},
    "colab_type": "code",
    "id": "9z28pFGha-Dz"
   },
   "outputs": [],
   "source": [
    "# Example of p(x) > 1, Uniform distribution on (0, 0.5)\n",
    "f = lambda x: stats.uniform.pdf(x, 0, 0.5)\n",
    "x = np.arange(-0.5, 1, 0.01)\n",
    "y = f(x)\n",
    "\n",
    "plt.plot(x, y, 'b')\n",
    "plt.title('Uniform PDF')"
   ]
  }
 ],
 "metadata": {
  "colab": {
   "collapsed_sections": [],
   "name": "DiscreteAndContinuousProbabilities.ipynb",
   "provenance": [
    {
     "file_id": "1gvHh2_ZjzTLMc1CADciI78BD_ezU3Vhd",
     "timestamp": 1568492327806
    }
   ],
   "version": "0.3.2"
  },
  "kernelspec": {
   "display_name": "Python 3",
   "language": "python",
   "name": "python3"
  },
  "language_info": {
   "codemirror_mode": {
    "name": "ipython",
    "version": 3
   },
   "file_extension": ".py",
   "mimetype": "text/x-python",
   "name": "python",
   "nbconvert_exporter": "python",
   "pygments_lexer": "ipython3",
   "version": "3.7.1"
  }
 },
 "nbformat": 4,
 "nbformat_minor": 0
}
